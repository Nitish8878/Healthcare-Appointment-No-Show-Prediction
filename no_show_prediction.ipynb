{
 "cells": [
  {
   "cell_type": "markdown",
   "id": "cfdfe8f8",
   "metadata": {},
   "source": [
    "# No-show Appointment Prediction\n",
    "This notebook trains a model, visualizes results, and exports predictions for Power BI."
   ]
  },
  {
   "cell_type": "code",
   "execution_count": null,
   "id": "7547d899",
   "metadata": {},
   "outputs": [],
   "source": [
    "import pandas as pd\n",
    "import matplotlib.pyplot as plt\n",
    "import seaborn as sns\n",
    "from sklearn.model_selection import train_test_split\n",
    "from sklearn.ensemble import RandomForestClassifier\n",
    "from sklearn.metrics import classification_report\n",
    "\n",
    "# Load dataset\n",
    "df = pd.read_csv(\"KaggleV2-May-2016.csv\")\n",
    "\n",
    "# Preprocess data\n",
    "df['No-show'] = df['No-show'].map({'Yes': 1, 'No': 0})\n",
    "df['ScheduledDay'] = pd.to_datetime(df['ScheduledDay'])\n",
    "df['AppointmentDay'] = pd.to_datetime(df['AppointmentDay'])\n",
    "df['waiting_days'] = (df['AppointmentDay'] - df['ScheduledDay']).dt.days\n",
    "df = df[df['waiting_days'] >= 0]\n",
    "\n",
    "# Create age group\n",
    "df['age_group'] = pd.cut(df['Age'], bins=[0, 18, 35, 60, 100], labels=['Child', 'Youth', 'Adult', 'Senior'])\n",
    "\n",
    "# Define features and target\n",
    "features = ['Age', 'Hipertension', 'Diabetes', 'Alcoholism', 'SMS_received', 'waiting_days']\n",
    "X = df[features]\n",
    "y = df['No-show']\n",
    "\n",
    "# Train-test split\n",
    "X_train, X_test, y_train, y_test = train_test_split(X, y, test_size=0.2, random_state=42)\n",
    "\n",
    "# Train model\n",
    "clf = RandomForestClassifier(n_estimators=100, class_weight='balanced', max_depth=10, random_state=42)\n",
    "clf.fit(X_train, y_train)\n",
    "\n",
    "# Predictions and evaluation\n",
    "df['prediction'] = clf.predict(X)\n",
    "report = classification_report(y_test, clf.predict(X_test), zero_division=0)\n",
    "print(report)\n"
   ]
  },
  {
   "cell_type": "markdown",
   "id": "3b12ee8b",
   "metadata": {},
   "source": [
    "## 📊 Visualizations"
   ]
  },
  {
   "cell_type": "code",
   "execution_count": null,
   "id": "e3589426",
   "metadata": {},
   "outputs": [],
   "source": [
    "# No-show rate by age group\n",
    "sns.barplot(x='age_group', y='No-show', data=df)\n",
    "plt.title(\"No-show Rate by Age Group\")\n",
    "plt.xlabel(\"Age Group\")\n",
    "plt.ylabel(\"No-show Rate\")\n",
    "plt.show()\n",
    "\n",
    "# SMS reminder impact\n",
    "sns.barplot(x='SMS_received', y='No-show', data=df)\n",
    "plt.title(\"Impact of SMS Reminders on No-show\")\n",
    "plt.xlabel(\"SMS Received\")\n",
    "plt.ylabel(\"No-show Rate\")\n",
    "plt.show()\n",
    "\n",
    "# Feature importance\n",
    "importances = pd.Series(clf.feature_importances_, index=features).sort_values(ascending=False)\n",
    "importances.plot(kind='bar', title='Feature Importance')\n",
    "plt.ylabel('Importance')\n",
    "plt.show()\n"
   ]
  },
  {
   "cell_type": "markdown",
   "id": "d143fa3b",
   "metadata": {},
   "source": [
    "## 💾 Export predictions for Power BI"
   ]
  },
  {
   "cell_type": "code",
   "execution_count": null,
   "id": "b734addf",
   "metadata": {},
   "outputs": [],
   "source": [
    "df[['Age', 'Hipertension', 'Diabetes', 'Alcoholism', 'SMS_received', 'waiting_days', 'prediction']].to_csv(\"predictions_for_powerbi.csv\", index=False)\n",
    "print(\"Exported to predictions_for_powerbi.csv\")"
   ]
  }
 ],
 "metadata": {},
 "nbformat": 4,
 "nbformat_minor": 5
}
